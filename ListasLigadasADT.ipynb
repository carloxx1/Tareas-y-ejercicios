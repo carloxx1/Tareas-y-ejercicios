{
  "nbformat": 4,
  "nbformat_minor": 0,
  "metadata": {
    "colab": {
      "name": "ListasLigadasADT",
      "provenance": [],
      "collapsed_sections": [],
      "authorship_tag": "ABX9TyOWR1PZVj2Mt4IJqULprFTV",
      "include_colab_link": true
    },
    "kernelspec": {
      "name": "python3",
      "display_name": "Python 3"
    },
    "language_info": {
      "name": "python"
    }
  },
  "cells": [
    {
      "cell_type": "markdown",
      "metadata": {
        "id": "view-in-github",
        "colab_type": "text"
      },
      "source": [
        "<a href=\"https://colab.research.google.com/github/carloxx1/Tareas-y-ejercicios/blob/main/ListasLigadasADT.ipynb\" target=\"_parent\"><img src=\"https://colab.research.google.com/assets/colab-badge.svg\" alt=\"Open In Colab\"/></a>"
      ]
    },
    {
      "cell_type": "code",
      "metadata": {
        "id": "Qpoc-U6s0eIQ"
      },
      "source": [
        "class Nodo:\n",
        "  def __init__( self , value , siguiente = None ):\n",
        "    self.data = value \n",
        "    self.next = siguiente"
      ],
      "execution_count": 2,
      "outputs": []
    },
    {
      "cell_type": "code",
      "metadata": {
        "colab": {
          "base_uri": "https://localhost:8080/"
        },
        "id": "ZdmNzfsJ1uCA",
        "outputId": "22ebb226-f033-4448-ad5f-39201cddc501"
      },
      "source": [
        "head = Nodo(10)\n",
        "print( head.data)"
      ],
      "execution_count": 3,
      "outputs": [
        {
          "output_type": "stream",
          "name": "stdout",
          "text": [
            "10\n"
          ]
        }
      ]
    },
    {
      "cell_type": "code",
      "metadata": {
        "colab": {
          "base_uri": "https://localhost:8080/"
        },
        "id": "QxeE71Kv2eVz",
        "outputId": "2f0d0921-1c9f-4c11-9366-282b287e89e3"
      },
      "source": [
        "head = Nodo(10)\n",
        "head.next = Nodo(20)\n",
        "print(f\"Primero = { head.data }\")\n",
        "print(f\"Segundo = { head.next.data }\")\n",
        "\n",
        "#Lo mismo pero ahorrando codigo\n",
        "head = Nodo( 10 , Nodo (20) )\n",
        "print(f\"Primero = { head.data }\")\n",
        "print(f\"Segundo = { head.next.data }\")\n",
        "\n",
        "#Transversal\n",
        "curr_node = head\n",
        "while curr_node != None:\n",
        "  print(f\"| {curr_node.data} | -->\" , end=\"\")\n",
        "  curr_node = curr_node.next\n",
        "print(\"\")  \n",
        "\n",
        "\n"
      ],
      "execution_count": 4,
      "outputs": [
        {
          "output_type": "stream",
          "name": "stdout",
          "text": [
            "Primero = 10\n",
            "Segundo = 20\n",
            "Primero = 10\n",
            "Segundo = 20\n",
            "| 10 | -->| 20 | -->\n"
          ]
        }
      ]
    },
    {
      "cell_type": "code",
      "metadata": {
        "colab": {
          "base_uri": "https://localhost:8080/"
        },
        "id": "ArJ2nR8n7DXS",
        "outputId": "30cf1db3-ab79-4f06-807a-9682cfd811a5"
      },
      "source": [
        "head = Nodo(10,Nodo(20,Nodo(30 ,Nodo(40))))\n",
        "curr_node = head\n",
        "while curr_node != None :\n",
        "  print(f\"| {curr_node.data} | -->\" , end=\"\")\n",
        "  curr_node = curr_node.next\n",
        "print(\"\")\n",
        "\n",
        "#imprimir el primero \n",
        "print(head.data)\n",
        "\n",
        "#imprimir el ultimo \n",
        "curr_node = head \n",
        "while curr_node.next != None:\n",
        "  curr_node = curr_node.next\n",
        "print(curr_node.data)  \n",
        "\n",
        "#insertar el nodo 25\n",
        "curr_node = head \n",
        "while curr_node.data != 20 :\n",
        "  curr_node = curr_node.next\n",
        "print(curr_node.data)  \n",
        "\n",
        "#crear el nodo 25 \n",
        "curr_node.next = Nodo(25,curr_node.next)\n",
        "print(\"Despues de insertar 25\")\n",
        "curr_node = head\n",
        "while curr_node != None :\n",
        "  print(f\"| {curr_node.data} | -->\" , end=\"\")\n",
        "  curr_node = curr_node.next\n",
        "print(\"\")"
      ],
      "execution_count": 6,
      "outputs": [
        {
          "output_type": "stream",
          "name": "stdout",
          "text": [
            "| 10 | -->| 20 | -->| 30 | -->| 40 | -->\n",
            "10\n",
            "40\n",
            "20\n",
            "Despues de insertar 25\n",
            "| 10 | -->| 20 | -->| 25 | -->| 30 | -->| 40 | -->\n"
          ]
        }
      ]
    },
    {
      "cell_type": "code",
      "metadata": {
        "id": "7vtOPcYuc4CO"
      },
      "source": [
        "class LinkedList:\n",
        "  def __init__( self ):\n",
        "    self.head = None\n",
        "\n",
        "  def is_empty( self ): # true o false\n",
        "    return self.head == None    \n",
        "\n",
        "  def get_tail( self ):\n",
        "    if self.is_empty():\n",
        "      return None\n",
        "    else:  \n",
        "\n",
        "      curr_node = self.head\n",
        "      while curr_node.next != None:\n",
        "        curr_node = curr_node.next\n",
        "      return curr_node   \n",
        "\n",
        "  def append( self , value ):\n",
        "    if self.head == None:\n",
        "      self.head = Nodo( value )\n",
        "    else:\n",
        "      curr_node = self.head\n",
        "      while curr_node.next != None:\n",
        "        curr_node = curr_node.next\n",
        "      curr_node.next = Nodo(value)  \n",
        "\n",
        "  def transversal( self ):\n",
        "    curr_node = self.head\n",
        "    while curr_node != None:\n",
        "      print(f\"| { curr_node.data } | -->\" , end=\"\")   \n",
        "      curr_node = curr_node.next \n",
        "    print(\"\")\n",
        "\n",
        "  def remove( self , value ):\n",
        "    if self.head == None:\n",
        "      print(\"Lista vacia , no se puede remover nada\")\n",
        "    else:\n",
        "      curr_node = self.head\n",
        "      aux = None\n",
        "      while curr_node.data != value : # revisar cuando el valor no exista\n",
        "        aux = curr_node\n",
        "        curr_node = curr_node.next  \n",
        "\n",
        "      if curr_node != None:\n",
        "        aux.next = curr_node.next\n",
        "        curr_node = None\n",
        "\n",
        "  def preppend( self , value ):\n",
        "    if self.head == None:\n",
        "      print(\"Esta vacio , no se puede hacer preppend\")\n",
        "    else:\n",
        "      aux = self.head\n",
        "      self.head = Nodo( value , aux )        "
      ],
      "execution_count": 35,
      "outputs": []
    },
    {
      "cell_type": "code",
      "metadata": {
        "colab": {
          "base_uri": "https://localhost:8080/"
        },
        "id": "RZ3w2s_zfmXE",
        "outputId": "c324af17-43c6-4889-c0d8-b786fc98a066"
      },
      "source": [
        "lista = LinkedList()\n",
        "if lista.is_empty():\n",
        "  print(\"La lista esta vacia\")\n",
        "else:\n",
        "  print(\"La lista no esta vacia\")  \n",
        "\n",
        "lista.append(10)\n",
        "lista.append(20)\n",
        "lista.append(30)\n",
        "lista.append(40)\n",
        "lista.append(50)\n",
        "nodo = lista.get_tail()\n",
        "if nodo != None :\n",
        "  print(nodo.data)\n",
        "else: \n",
        "  print(\"Lista esta vacia\") \n",
        "\n",
        "lista.transversal()\n",
        "lista.remove(30)\n",
        "lista.transversal()\n",
        "lista.preppend(5)\n",
        "print(\"Despues del preppend\")\n",
        "lista.transversal()"
      ],
      "execution_count": 38,
      "outputs": [
        {
          "output_type": "stream",
          "name": "stdout",
          "text": [
            "La lista esta vacia\n",
            "50\n",
            "| 10 | -->| 20 | -->| 30 | -->| 40 | -->| 50 | -->\n",
            "| 10 | -->| 20 | -->| 40 | -->| 50 | -->\n",
            "Despues del preppend\n",
            "| 5 | -->| 10 | -->| 20 | -->| 40 | -->| 50 | -->\n"
          ]
        }
      ]
    }
  ]
}