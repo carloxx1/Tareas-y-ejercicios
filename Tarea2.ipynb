{
  "nbformat": 4,
  "nbformat_minor": 0,
  "metadata": {
    "colab": {
      "name": "Tarea2.ipynb",
      "provenance": [],
      "authorship_tag": "ABX9TyMbRL6M8XGQPg0jv3XrJt99",
      "include_colab_link": true
    },
    "kernelspec": {
      "name": "python3",
      "display_name": "Python 3"
    },
    "language_info": {
      "name": "python"
    }
  },
  "cells": [
    {
      "cell_type": "markdown",
      "metadata": {
        "id": "view-in-github",
        "colab_type": "text"
      },
      "source": [
        "<a href=\"https://colab.research.google.com/github/carloxx1/Tareea-2/blob/main/Tarea2.ipynb\" target=\"_parent\"><img src=\"https://colab.research.google.com/assets/colab-badge.svg\" alt=\"Open In Colab\"/></a>"
      ]
    },
    {
      "cell_type": "code",
      "metadata": {
        "colab": {
          "base_uri": "https://localhost:8080/"
        },
        "id": "wc8uv2Q0Ujdj",
        "outputId": "f2ef2621-620f-4553-df66-a07bcddbf0a2"
      },
      "source": [
        "def sumadenumeros(numeros):\n",
        "\n",
        "   if len(numeros) == 1:\n",
        "        return numeros[0]\n",
        "   else:\n",
        "        return numeros[0] + sumadenumeros(numeros[1:])\n",
        "lista=[2,3,4,1,5]\n",
        "resultado= sumadenumeros(lista)\n",
        "print(resultado)\n"
      ],
      "execution_count": 1,
      "outputs": [
        {
          "output_type": "stream",
          "name": "stdout",
          "text": [
            "15\n"
          ]
        }
      ]
    },
    {
      "cell_type": "code",
      "metadata": {
        "colab": {
          "base_uri": "https://localhost:8080/"
        },
        "id": "4v8TK1dRUle9",
        "outputId": "6e0a9944-7601-4455-c25c-06aa8617f2e8"
      },
      "source": [
        "def contador(num):\n",
        "    num -= 1\n",
        "    if num > 0:\n",
        "        print(num)\n",
        "        contador(num)\n",
        "    else:\n",
        "        print(\"BOOMMMMM !!!\")\n",
        "   \n",
        "\n",
        "contador(11)\n"
      ],
      "execution_count": 2,
      "outputs": [
        {
          "output_type": "stream",
          "name": "stdout",
          "text": [
            "10\n",
            "9\n",
            "8\n",
            "7\n",
            "6\n",
            "5\n",
            "4\n",
            "3\n",
            "2\n",
            "1\n",
            "BOOMMMMM !!!\n"
          ]
        }
      ]
    },
    {
      "cell_type": "code",
      "metadata": {
        "colab": {
          "base_uri": "https://localhost:8080/"
        },
        "id": "2PrWubBtUtQT",
        "outputId": "616bb59d-e27e-46cd-c958-61635ae9a690"
      },
      "source": [
        "def fib(n):\n",
        "    if n < 2:\n",
        "        return n\n",
        "    return fib(n-1) + fib(n-2)\n",
        "\n",
        "for x in range(15):\n",
        "    print(fib(x))\n"
      ],
      "execution_count": 3,
      "outputs": [
        {
          "output_type": "stream",
          "name": "stdout",
          "text": [
            "0\n",
            "1\n",
            "1\n",
            "2\n",
            "3\n",
            "5\n",
            "8\n",
            "13\n",
            "21\n",
            "34\n",
            "55\n",
            "89\n",
            "144\n",
            "233\n",
            "377\n"
          ]
        }
      ]
    }
  ]
}