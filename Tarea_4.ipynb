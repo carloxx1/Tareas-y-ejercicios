{
  "nbformat": 4,
  "nbformat_minor": 0,
  "metadata": {
    "colab": {
      "name": "Tarea 4.ipynb",
      "provenance": [],
      "authorship_tag": "ABX9TyPsM6bJiOKfvl5KvWIzZArH",
      "include_colab_link": true
    },
    "kernelspec": {
      "name": "python3",
      "display_name": "Python 3"
    },
    "language_info": {
      "name": "python"
    }
  },
  "cells": [
    {
      "cell_type": "markdown",
      "metadata": {
        "id": "view-in-github",
        "colab_type": "text"
      },
      "source": [
        "<a href=\"https://colab.research.google.com/github/carloxx1/Tareas-y-ejercicios/blob/main/Tarea_4.ipynb\" target=\"_parent\"><img src=\"https://colab.research.google.com/assets/colab-badge.svg\" alt=\"Open In Colab\"/></a>"
      ]
    },
    {
      "cell_type": "code",
      "metadata": {
        "id": "DDE1NjSSWm0E"
      },
      "source": [
        "a= float (input(\"Valor de a: \"))\n",
        "b= float (input(\"Valor de b: \"))\n",
        "c= float (input(\"Valor de c: \"))\n",
        "\n",
        "x1=(-b+(((b**2)-(4*a*c))**0.5))/(2*a)\n",
        "x2=(-b-(((b**2)-(4*a*c))**0.5))/(2*a)\n",
        "\n",
        "print (\"El valor de x1 es :\",x1)\n",
        "print (\"El valor de x2 es :\",x2)"
      ],
      "execution_count": null,
      "outputs": []
    }
  ]
}