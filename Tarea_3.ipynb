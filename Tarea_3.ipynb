{
  "nbformat": 4,
  "nbformat_minor": 0,
  "metadata": {
    "colab": {
      "name": "Tarea 3.ipynb",
      "provenance": [],
      "collapsed_sections": [],
      "authorship_tag": "ABX9TyMj88enKguelCpcO9xRgAXe",
      "include_colab_link": true
    },
    "kernelspec": {
      "name": "python3",
      "display_name": "Python 3"
    },
    "language_info": {
      "name": "python"
    }
  },
  "cells": [
    {
      "cell_type": "markdown",
      "metadata": {
        "id": "view-in-github",
        "colab_type": "text"
      },
      "source": [
        "<a href=\"https://colab.research.google.com/github/carloxx1/Tareas-y-ejercicios/blob/main/Tarea_3.ipynb\" target=\"_parent\"><img src=\"https://colab.research.google.com/assets/colab-badge.svg\" alt=\"Open In Colab\"/></a>"
      ]
    },
    {
      "cell_type": "code",
      "metadata": {
        "id": "Za4XbijFRP5r"
      },
      "source": [
        "Mesa = int (input( \"Numero de mesa: \"))\n",
        "\n",
        "Comensal = int ( input( \"Numero de comensal: \"))\n",
        "\n",
        "Entrada = input ( \"Indique la entra : \")\n",
        "\n",
        "Medio = input (\"Indique el plato medio :\")\n",
        "\n",
        "Fuerte = input (\"Indique el plato fuerte : \")\n",
        "\n",
        "Adicionales = input (\"Indique aspectos adicionales : \")\n",
        "\n",
        "Menu_Select = {Mesa,Comensal,Entrada,Medio,Fuerte,Adicionales}\n",
        "\n",
        "\n",
        "\n",
        "print (\"Detalles:  \"\"\\n\\t\"\"Mesa:\",Mesa,\"\\n\\t\"\"Comensal:\",Comensal,\"\\n\\t\"\"Entrada:\",Entrada,\"\\n\\t\"\"Medio:\",Medio,\"\\n\\t\"\"Fuerte:\",Fuerte,\"\\n\\t\"\"Adicionales:\",Adicionales)\n",
        "\n"
      ],
      "execution_count": null,
      "outputs": []
    }
  ]
}