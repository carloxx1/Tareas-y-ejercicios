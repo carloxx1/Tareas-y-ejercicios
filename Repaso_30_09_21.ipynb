{
  "nbformat": 4,
  "nbformat_minor": 0,
  "metadata": {
    "colab": {
      "name": "Repaso 30/09/21.ipynb",
      "provenance": [],
      "authorship_tag": "ABX9TyOnuPXuiiGZDSPiSZU8dHaf",
      "include_colab_link": true
    },
    "kernelspec": {
      "name": "python3",
      "display_name": "Python 3"
    },
    "language_info": {
      "name": "python"
    }
  },
  "cells": [
    {
      "cell_type": "markdown",
      "metadata": {
        "id": "view-in-github",
        "colab_type": "text"
      },
      "source": [
        "<a href=\"https://colab.research.google.com/github/carloxx1/Tareas-y-ejercicios/blob/main/Repaso_30_09_21.ipynb\" target=\"_parent\"><img src=\"https://colab.research.google.com/assets/colab-badge.svg\" alt=\"Open In Colab\"/></a>"
      ]
    },
    {
      "cell_type": "code",
      "metadata": {
        "id": "rA0QRNgbuyqk"
      },
      "source": [
        ""
      ],
      "execution_count": null,
      "outputs": []
    },
    {
      "cell_type": "markdown",
      "metadata": {
        "id": "uAyIS8klvJkk"
      },
      "source": [
        ""
      ]
    },
    {
      "cell_type": "code",
      "metadata": {
        "id": "sQg89uvMvQh5"
      },
      "source": [
        "class persona :\n",
        "  def __init__(self , n , e , est):\n",
        "   self.__nombre = n\n",
        "   self.__edad: e\n",
        "   self.__estatura: est\n",
        "\n",
        "  def to_string( self ):\n",
        "   return \"Nombre : \" + self.__nombre + \"Edad: \" +str(self.__edad) + \"Estatura: \" +str( self.__estatura)\n",
        "\n",
        "  def set_estatura( self , nueva_est):\n",
        "    if nueva_est > 0.10 and nueva_est < 2.5 :\n",
        "      self.__estatura = nueva_est\n",
        "    else : \n",
        "      print(\"Error :Esa estaura no es posible \")  \n",
        "   \n",
        "   def get_estatura ( self ):\n",
        "     return self.__estatura  "
      ],
      "execution_count": 10,
      "outputs": []
    },
    {
      "cell_type": "code",
      "metadata": {
        "id": "2Q2u60Ziw7br"
      },
      "source": [
        "per = persona(\"Jose\",18,1.70)\n",
        "print(per.to_string())\n",
        "\n",
        "#encapsulamiento \n",
        "\n",
        "per.nombre = \"Pedro \" #Esto no se recomienda\n",
        "print(per.to_string())\n",
        "\n",
        "#per.estatura = 3.9\n",
        "\n",
        "per.set_estatura(1.9)\n",
        "print(per.to_string())\n",
        "\n",
        "print(\"Estatura: \" , end= \"\")\n",
        "#print( per.__estatura )\n",
        "print( per.get_estatura())"
      ],
      "execution_count": null,
      "outputs": []
    },
    {
      "cell_type": "code",
      "metadata": {
        "id": "0RsSqEM71upy"
      },
      "source": [
        "class Estudiante ( persona ) :\n",
        "  def __init__ ( self , nc , nombre , edad , est ):\n",
        "    self.__num_cta = nc\n",
        "    super().__init__( nombre,edad,est)\n",
        "  def to_string( self ):\n",
        "    return super().to_string() + \"Numero de cuenta: \" + self.__num_cta"
      ],
      "execution_count": null,
      "outputs": []
    },
    {
      "cell_type": "code",
      "metadata": {
        "id": "BJOkBoN-2htW"
      },
      "source": [
        "est= Estudiante (\"212020202\",\"Jose\",18,1.7)\n",
        "print( est.to_string())"
      ],
      "execution_count": null,
      "outputs": []
    }
  ]
}