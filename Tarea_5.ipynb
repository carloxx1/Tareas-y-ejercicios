{
  "nbformat": 4,
  "nbformat_minor": 0,
  "metadata": {
    "colab": {
      "name": "Tarea 5.ipynb",
      "provenance": [],
      "authorship_tag": "ABX9TyOpKKh5uzUZq1lbIvpFzz79",
      "include_colab_link": true
    },
    "kernelspec": {
      "name": "python3",
      "display_name": "Python 3"
    },
    "language_info": {
      "name": "python"
    }
  },
  "cells": [
    {
      "cell_type": "markdown",
      "metadata": {
        "id": "view-in-github",
        "colab_type": "text"
      },
      "source": [
        "<a href=\"https://colab.research.google.com/github/carloxx1/Tareas-y-ejercicios/blob/main/Tarea_5.ipynb\" target=\"_parent\"><img src=\"https://colab.research.google.com/assets/colab-badge.svg\" alt=\"Open In Colab\"/></a>"
      ]
    },
    {
      "cell_type": "code",
      "metadata": {
        "id": "QHTfNbCDlVSI"
      },
      "source": [
        "class Array :\n",
        "  def __init__ (self , tam):\n",
        "    self.__tamanio = tam \n",
        "    self.__data = [0 for x in range(self.__tamanio)]\n",
        "\n",
        "  def to_string ( self ) :\n",
        "    info = \"\"\n",
        "    for dato in self.__data:\n",
        "      info = info + str (dato) + \"|\"\n",
        "    return info \n",
        "  def get_item( self , index ) :\n",
        "    return self.__data [index]\n",
        "  \n",
        "  def get_length( self ):\n",
        "    return len( self.__data )\n",
        "  \n",
        "  def set_item( self , dato , index) :\n",
        "    if index >= 0 and index < self.get_length():\n",
        "      self.__data[index] = dato \n",
        "\n",
        "    else:\n",
        "      print ( \"Error: indice fuera de rango \")\n",
        "    \n",
        "  def clear ( self , dato ): \n",
        "    self.__data = [ dato  for x in range(self.__tamanio)]"
      ],
      "execution_count": 19,
      "outputs": []
    },
    {
      "cell_type": "code",
      "metadata": {
        "colab": {
          "base_uri": "https://localhost:8080/"
        },
        "id": "LDiFbzsUlNGw",
        "outputId": "72c7ab02-1299-400c-9407-554d25f1341a"
      },
      "source": [
        "archivo = open( 'junio.dat', 'rt' , encoding='latin-1')\n",
        "print(archivo.read())"
      ],
      "execution_count": 12,
      "outputs": [
        {
          "output_type": "stream",
          "name": "stdout",
          "text": [
            "numero de trabajador, nombres, paterno, materno, horas extra, sueldo base, aÃ±o de ingreso\n",
            "2345,CARLOS,PEREZ,CASTILLO,0,9850,2017\n",
            "5754,ANGEL,GOMEZ,GARRIDO,1,9850,2020\n",
            "5345,JESUS,MARTIN,SANTOS,2,9850,2016\n",
            "3267,DAVID,JIMENEZ,LOZANO,2,9850,2017\n",
            "8765,PEDRO,RUIZ,GUERRERO,2,9850,2017\n",
            "5454,DANIEL,HERNANDEZ,CANO,3,9850,2018\n",
            "3456,ALEJANDRO,DIAZ,PRIETO,2,9850,2018\n",
            "3445,MARIA,MORENO,MENDEZ,1,9850,2018\n",
            "9088,ALBERTO,MUOZ,CRUZ,1,9850,2017\n",
            "8877,RAFAEL,ALVAREZ,FLORES,2,9850,2017\n",
            "6767,FERNANDO,ROMERO,HERRERA,4,9850,2019\n",
            "5654,PABLO,ALONSO,GALLEGO,1,9850,2019\n",
            "4323,JORGE,GUTIERREZ,MARQUEZ,2,9850,2020\n",
            "2232,RAMON,NAVARRO,LEON,1,9850,2016\n"
          ]
        }
      ]
    },
    {
      "cell_type": "code",
      "metadata": {
        "id": "jRRqVBRYQjVM"
      },
      "source": [
        "class trabajador :\n",
        "  def __init__( self , nt , nom , pat , mat , he ,  sb , ai):\n",
        "    self.__numero_trabajador = nt\n",
        "    self.__nombre = nom\n",
        "    self.__paterno = pat\n",
        "    self.__materno = mat \n",
        "    self.__horas_extras = he\n",
        "    self.__sueldo_base = sb\n",
        "    self.__anio_ingreso = ai\n",
        "   \n",
        "\n",
        "  def set_numero_trabajador( self , nt ):\n",
        "    self.__numero_trabajador = nt\n",
        "\n",
        "  def get_numero_trabajado( self ):\n",
        "    return self.__numero_trabajador\n",
        "\n",
        "  def set_nombre( self , nom ):\n",
        "    self.__nombre = nom \n",
        "\n",
        "  def get_nombre( self ):\n",
        "    return self.__nombre\n",
        "\n",
        "  def set_paterno( self , pat ):\n",
        "    self.__paterno = pat\n",
        "\n",
        "  def get_paterno( self ):\n",
        "    return self.__paterno\n",
        "\n",
        "  def set_materno( self , mat ):\n",
        "    self.__materno = mat \n",
        "\n",
        "  def get_materno( self ):\n",
        "    return self.__materno      \n",
        "  \n",
        "  def set_horas_extras( self , he ):\n",
        "    self.__horas_extras = he \n",
        "\n",
        "  def get_horas_extras( self ):\n",
        "    return self.__horas_extras\n",
        "\n",
        "  def set_sueldo_base( self , sb ):\n",
        "    self.__sueldo_base = sb\n",
        "\n",
        "  def get_sueldo_base( self ):\n",
        "    return self.__sueldo_base\n",
        "\n",
        "  def set_anio_ingreso( self , ai ):\n",
        "    self.__anio_ingreso = ai \n",
        "\n",
        "  def get_anio_ingreso( self ):\n",
        "    return self.__anio_ingreso\n",
        "\n",
        "\n",
        "  def calcular_sueldo_mensual( self ):\n",
        "    anios = 2021 - self.get_anio_ingreso()\n",
        "    \n",
        "    sueldo = self.get_sueldo_base()\n",
        "\n",
        "    sueldo += self.get_horas_extras() * 276.5\n",
        "\n",
        "    sueldo = sueldo + ( sueldo * anios * 0.03 )\n",
        "\n",
        "    return sueldo \n",
        "\n",
        "  def to_string( self ):\n",
        "     return 'Nombre: ' + self.__nombre + ' Sueldo: $' + str(self.calcular_sueldo_mensual())\n",
        "\n",
        "  def calcular_antiguedad( self ):\n",
        "    return 2021 - self.get_anio_ingreso()\n",
        "\n",
        "emp = trabajador(2345,'CARLOS','PEREZ','CASTILLO',1,9850,2017 )"
      ],
      "execution_count": 28,
      "outputs": []
    },
    {
      "cell_type": "code",
      "metadata": {
        "colab": {
          "base_uri": "https://localhost:8080/"
        },
        "id": "c_y6ERetlIb3",
        "outputId": "4eda2b42-52a7-4eb3-ca62-e6159f23f09f"
      },
      "source": [
        "class Nomina:\n",
        "  def __init__( self , ruta_archivo ) :\n",
        "    archivo = open( ruta_archivo , 'rt' , encoding='latin-1')\n",
        "    empleados = archivo.readlines()\n",
        "    del empleados[0]\n",
        "    for index in range(len(empleados)):\n",
        "      empleados[index] = empleados[index].strip().split(',')\n",
        "\n",
        "    self.__data=Array(len(empleados))\n",
        "    cont = 0 \n",
        "    for emp in empleados:\n",
        "      tmp = trabajador ( int(emp[0]) , emp[1] , emp[2] , emp[3] , int(emp[4]) , int(emp[5]) , int(emp[6]) )\n",
        "      self.__data.set_item( tmp , cont )\n",
        "      cont += 1\n",
        "   \n",
        "  def calcular_sueldos( self ):\n",
        "    for index in range( self.__data.get_length()):\n",
        "      print( self.__data.get_item(index).to_string() )\n",
        "\n",
        "\n",
        "  def buscar_mas_antiguo( self ):\n",
        "    pass\n",
        "    \n",
        "  \n",
        "  def buscar_menor_antiguedad( self ):\n",
        "    pass\n",
        "   \n",
        "\n",
        "ejemplo=Nomina('junio.dat')     \n",
        "ejemplo.calcular_sueldos()  \n",
        "ejemplo.buscar_mas_antiguo()"
      ],
      "execution_count": 34,
      "outputs": [
        {
          "output_type": "stream",
          "name": "stdout",
          "text": [
            "Nombre: CARLOS Sueldo: $11032.0\n",
            "Nombre: ANGEL Sueldo: $10430.295\n",
            "Nombre: JESUS Sueldo: $11963.45\n",
            "Nombre: DAVID Sueldo: $11651.36\n",
            "Nombre: PEDRO Sueldo: $11651.36\n",
            "Nombre: DANIEL Sueldo: $11640.655\n",
            "Nombre: ALEJANDRO Sueldo: $11339.27\n",
            "Nombre: MARIA Sueldo: $11037.885\n",
            "Nombre: ALBERTO Sueldo: $11341.68\n",
            "Nombre: RAFAEL Sueldo: $11651.36\n",
            "Nombre: FERNANDO Sueldo: $11613.36\n",
            "Nombre: PABLO Sueldo: $10734.09\n",
            "Nombre: JORGE Sueldo: $10715.09\n",
            "Nombre: RAMON Sueldo: $11645.475\n"
          ]
        }
      ]
    }
  ]
}